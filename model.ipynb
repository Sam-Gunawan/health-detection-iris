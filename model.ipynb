{
 "cells": [
  {
   "cell_type": "markdown",
   "metadata": {},
   "source": [
    "# Predicting sickness based on iris data\n",
    "\n",
    "\n",
    "First of all, we import the necessary dependencies"
   ]
  },
  {
   "cell_type": "code",
   "execution_count": 1,
   "metadata": {},
   "outputs": [],
   "source": [
    "import numpy as np\n",
    "import pandas as pd\n",
    "import matplotlib.pyplot as plt"
   ]
  },
  {
   "cell_type": "markdown",
   "metadata": {},
   "source": [
    "## Storing and parsing the data\n",
    "\n",
    "Then, we need to convert the csv dataset to a Pandas dataframe and parse the necessary values needed for our model later on (if any)."
   ]
  },
  {
   "cell_type": "code",
   "execution_count": 2,
   "metadata": {},
   "outputs": [],
   "source": [
    "all_iris_df = pd.read_csv('iris_dataset.csv')"
   ]
  },
  {
   "cell_type": "markdown",
   "metadata": {},
   "source": [
    "## Splitting into train and test dataframes\n",
    "We need to create 2 new dataframes, one for training the model and the other for testing.\n",
    "- Training will be used to calculate the appropriate weights that the model assigns to each class.\n",
    "- Testing will be used to calculate the accuracy of the model."
   ]
  },
  {
   "cell_type": "code",
   "execution_count": 3,
   "metadata": {},
   "outputs": [],
   "source": [
    "def split_train_test(train_size):\n",
    "    \"\"\"\n",
    "    Splits the dataset into training and testing sets.\n",
    "    The function randomly samples the data to create a training set and uses the remaining data for testing.\n",
    "    The split is done based on a specified train size percentage.\n",
    "    Returns the training attributes, training class labels, testing attributes, and testing class labels. \n",
    "    \"\"\"\n",
    "    # Randomly sample the data\n",
    "    train_iris_df = all_iris_df.sample(frac=train_size, random_state=150)\n",
    "\n",
    "    # Get the remaining data for testing\n",
    "    test_iris_df = all_iris_df.drop(train_iris_df.index)\n",
    "\n",
    "    train_attributes =  np.array(train_iris_df.drop('variety', axis=1))\n",
    "    train_class = np.array(train_iris_df['variety'])\n",
    "\n",
    "    test_attributes =  np.array(test_iris_df.drop('variety', axis=1))\n",
    "    test_class = np.array(test_iris_df['variety'])\n",
    "\n",
    "    return train_attributes, train_class, test_attributes, test_class"
   ]
  },
  {
   "cell_type": "markdown",
   "metadata": {},
   "source": [
    "## Training the model\n",
    "We'll be using a Multiclass Perceptron algorithm to predict the outcomes in our model.<br><br>\n",
    "Firstly, we need to initialize the weights for each class."
   ]
  },
  {
   "cell_type": "code",
   "execution_count": 4,
   "metadata": {},
   "outputs": [],
   "source": [
    "def init_weights(all_zeros=True):\n",
    "    \"\"\"\n",
    "    Initializes the weights for the perceptron algorithm.\n",
    "    If all_zeros is True, initializes weights to zero.\n",
    "    If all_zeros is False, initializes weights randomly between -0.5 and 0.5.\n",
    "    \"\"\"\n",
    "\n",
    "    # NOTE\n",
    "    # Each nth element of a class' weight belongs to the nth attributes of the iris data\n",
    "    # [     w1     ,     w2     ,     w3      ,     w4     ]\n",
    "    # [sepal.length, sepal.width, petal.length, petal.width]\n",
    "\n",
    "    # The weights are initialized to zero or randomly between -0.5 and 0.5\n",
    "    # If all_zeros is True, all weights are set to zero\n",
    "    # If all_zeros is False, weights are randomly initialized\n",
    "    # Randomly initialize the weights for each class\n",
    "    # The weights are initialized between -0.5 and 0.5\n",
    "    # This works because np.random.rand() returns a value between 0 and 1\n",
    "    # and subtracting 0.5 gives a value between -0.5 and 0.5\n",
    "    weights = {\n",
    "        'setosa': np.zeros(4) if all_zeros else np.random.rand(4) - 0.5,\n",
    "        'versicolor': np.zeros(4) if all_zeros else np.random.rand(4) - 0.5,\n",
    "        'virginica': np.zeros(4) if all_zeros else np.random.rand(4) - 0.5\n",
    "    }\n",
    "\n",
    "    return weights"
   ]
  },
  {
   "cell_type": "markdown",
   "metadata": {},
   "source": [
    "Now, we train our model and calculate the final weights.<br>\n",
    "Here's how Multiclass Perceptron works in our case:\n",
    "1. For each epoch:\n",
    "    - For each training example:\n",
    "        - Calculate the weighted sum for each class.\n",
    "        - Predict the class with the highest score.\n",
    "        - If the prediction is incorrect:\n",
    "            - Update the weights for the true class and the predicted class.\n",
    "            - Set the flag `inaccurate` to True.\n",
    "    - If `inaccurate` is False, break the loop.\n",
    "2. The final weights are stored in the `weights` dictionary.\n",
    "\n",
    "For a more detailed explanation of the algorithm, view [`algorithm.txt`](./algorithm.txt)"
   ]
  },
  {
   "cell_type": "code",
   "execution_count": 5,
   "metadata": {},
   "outputs": [],
   "source": [
    "def multiclass_perceptron(train_attributes, train_class, model_settings):\n",
    "    weights, learning_rate, max_epochs = model_settings\n",
    "    inaccurate = True\n",
    "    epoch = 0\n",
    "    classes = ['setosa', 'versicolor', 'virginica']\n",
    "    \n",
    "    while inaccurate and epoch < max_epochs:\n",
    "        inaccurate = False\n",
    "        for index, data in enumerate(train_attributes):\n",
    "            setosa_sum = np.dot(weights['setosa'], data)\n",
    "            versicolor_sum = np.dot(weights['versicolor'], data)\n",
    "            virginica_sum = np.dot(weights['virginica'], data)\n",
    "\n",
    "            # Get index of the highest sum and get the name of the class\n",
    "            prediction = classes[np.argmax([setosa_sum, versicolor_sum, virginica_sum])]\n",
    "\n",
    "            expected = train_class[index].lower()\n",
    "\n",
    "            # If the prediction is wrong...\n",
    "            if prediction != expected:\n",
    "                inaccurate = True\n",
    "                \n",
    "                # Increase weight for expected class\n",
    "                weights[expected] = weights[expected] + (learning_rate * data)\n",
    "\n",
    "                # Decrease weight for predicted class\n",
    "                weights[prediction] = weights[prediction] - (learning_rate * data)\n",
    "        epoch += 1\n",
    "        \n",
    "    return epoch, weights\n"
   ]
  },
  {
   "cell_type": "markdown",
   "metadata": {},
   "source": [
    "## Testing the model\n",
    "To test the model, we define a function that calculates the accuracy by comparing the predicted class labels with the actual class labels. The function iterates through the test set, makes predictions using the learned weights, and calculates the percentage of correct predictions."
   ]
  },
  {
   "cell_type": "code",
   "execution_count": 6,
   "metadata": {},
   "outputs": [],
   "source": [
    "# Test the model on the test set\n",
    "def test_model(test_attributes, test_class, weights):\n",
    "    \"\"\"\n",
    "    Tests the model on the test set.\n",
    "    The function calculates the accuracy of the model by comparing the predicted class labels with the actual class labels.\n",
    "    Returns the accuracy of the model as a percentage.\n",
    "    \"\"\"\n",
    "    classes = ['setosa', 'versicolor', 'virginica']\n",
    "    correct_predictions = 0\n",
    "\n",
    "    for index, data in enumerate(test_attributes):\n",
    "        setosa_sum = np.dot(weights['setosa'], data)\n",
    "        versicolor_sum = np.dot(weights['versicolor'], data)\n",
    "        virginica_sum = np.dot(weights['virginica'], data)\n",
    "\n",
    "        # Get index of the highest sum and get the name of the class\n",
    "        prediction = classes[np.argmax([setosa_sum, versicolor_sum, virginica_sum])]\n",
    "\n",
    "        expected = test_class[index].lower()\n",
    "\n",
    "        # print(f\"{index + 1}. Predicted: {prediction} Expected: {expected}\")\n",
    "\n",
    "        if prediction == expected:\n",
    "            correct_predictions += 1\n",
    "\n",
    "    accuracy = (correct_predictions / len(test_class)) * 100\n",
    "    return accuracy"
   ]
  },
  {
   "cell_type": "markdown",
   "metadata": {},
   "source": [
    "## Finally...\n",
    "It's time to use the model! We're going to experiment using different settings or intiial values. <br><br>\n",
    "For the `train-test split`, we'll try for:\n",
    "1. 80-20 split\n",
    "2. 70-30 split\n",
    "3. 60-40 split\n",
    "\n",
    "For the `learning rates`, we'll try using:\n",
    "1. 0.1\n",
    "2. 0.05\n",
    "\n",
    "For the `initial weights`, we'll try using:\n",
    "1. All zeros\n",
    "2. Randomly within -0.5 and 0.5 range\n",
    "\n",
    "For each of these, we'll first initialize and set all the model's necessary settings. This includes the weights, a limit epoch value, and the learning rate. A total of 12 trials will be conducted. All accuracies of these trials will be stored and evaluated."
   ]
  },
  {
   "cell_type": "code",
   "execution_count": 7,
   "metadata": {},
   "outputs": [
    {
     "name": "stdout",
     "output_type": "stream",
     "text": [
      "======= Trial 1 =======\n",
      "Initial weights: all zeros\n",
      "Learning rate: 0.1\n",
      "Final epochs: 1000\n",
      "Final weights: {'setosa': array([  9.52,  12.18, -18.43,  -9.63]), 'versicolor': array([ 10.42,   4.75, -10.94, -10.9 ]), 'virginica': array([-19.94, -16.93,  29.37,  20.53])}\n",
      "Model accuracy: 100.00%\n",
      "\n",
      "======= Trial 2 =======\n",
      "Initial weights: random\n",
      "Learning rate: 0.1\n",
      "Final epochs: 1000\n",
      "Final weights: {'setosa': array([  9.60876068,  12.40475373, -18.64510719,  -9.99021581]), 'versicolor': array([ 10.00073836,   4.8312213 , -10.70068064, -10.72685382]), 'virginica': array([-19.83752962, -16.76842578,  29.59740037,  20.71640474])}\n",
      "Model accuracy: 100.00%\n",
      "\n",
      "======= Trial 3 =======\n",
      "Initial weights: all zeros\n",
      "Learning rate: 0.05\n",
      "Final epochs: 1000\n",
      "Final weights: {'setosa': array([ 4.76 ,  6.09 , -9.215, -4.815]), 'versicolor': array([ 5.21 ,  2.375, -5.47 , -5.45 ]), 'virginica': array([-9.97 , -8.465, 14.685, 10.265])}\n",
      "Model accuracy: 100.00%\n",
      "\n",
      "======= Trial 4 =======\n",
      "Initial weights: random\n",
      "Learning rate: 0.05\n",
      "Final epochs: 1000\n",
      "Final weights: {'setosa': array([ 5.01540409,  5.84301113, -9.21364792, -4.62483865]), 'versicolor': array([ 5.31401231,  2.05415218, -5.20403623, -5.47827984]), 'virginica': array([-9.72307464, -8.66326621, 14.93358656,  9.97582311])}\n",
      "Model accuracy: 100.00%\n",
      "\n",
      "======= Trial 5 =======\n",
      "Initial weights: all zeros\n",
      "Learning rate: 0.1\n",
      "Final epochs: 1000\n",
      "Final weights: {'setosa': array([  7.57,  12.03, -16.02,  -9.29]), 'versicolor': array([  7.88,   5.36,  -8.21, -10.51]), 'virginica': array([-15.45, -17.39,  24.23,  19.8 ])}\n",
      "Model accuracy: 100.00%\n",
      "\n",
      "======= Trial 6 =======\n",
      "Initial weights: random\n",
      "Learning rate: 0.1\n",
      "Final epochs: 1000\n",
      "Final weights: {'setosa': array([  7.5160676 ,  11.70716674, -16.35027256,  -9.26200882]), 'versicolor': array([  7.64554038,   5.75793266,  -8.58863678, -10.98803789]), 'virginica': array([-15.64282448, -17.95624081,  23.92555475,  20.5619117 ])}\n",
      "Model accuracy: 100.00%\n",
      "\n",
      "======= Trial 7 =======\n",
      "Initial weights: all zeros\n",
      "Learning rate: 0.05\n",
      "Final epochs: 1000\n",
      "Final weights: {'setosa': array([ 3.785,  6.015, -8.01 , -4.645]), 'versicolor': array([ 3.94 ,  2.68 , -4.105, -5.255]), 'virginica': array([-7.725, -8.695, 12.115,  9.9  ])}\n",
      "Model accuracy: 100.00%\n",
      "\n",
      "======= Trial 8 =======\n",
      "Initial weights: random\n",
      "Learning rate: 0.05\n",
      "Final epochs: 1000\n",
      "Final weights: {'setosa': array([ 3.86873631,  6.07326967, -8.03762116, -4.57261232]), 'versicolor': array([ 4.07985099,  3.06358167, -3.81454481, -5.32297928]), 'virginica': array([-8.03253471, -9.06080996, 12.10271659, 10.35805656])}\n",
      "Model accuracy: 86.67%\n",
      "\n",
      "======= Trial 9 =======\n",
      "Initial weights: all zeros\n",
      "Learning rate: 0.1\n",
      "Final epochs: 1000\n",
      "Final weights: {'setosa': array([  8.97,  10.71, -17.7 ,  -8.86]), 'versicolor': array([ 10.02,   0.98,  -8.16, -11.08]), 'virginica': array([-18.99, -11.69,  25.86,  19.94])}\n",
      "Model accuracy: 98.33%\n",
      "\n",
      "======= Trial 10 =======\n",
      "Initial weights: random\n",
      "Learning rate: 0.1\n",
      "Final epochs: 1000\n",
      "Final weights: {'setosa': array([  8.72007362,  10.92289125, -17.71932354,  -8.6863471 ]), 'versicolor': array([ 10.31833551,   1.04572162,  -8.1854838 , -10.8526493 ]), 'virginica': array([-18.95905423, -11.67320403,  25.08796718,  19.6227475 ])}\n",
      "Model accuracy: 91.67%\n",
      "\n",
      "======= Trial 11 =======\n",
      "Initial weights: all zeros\n",
      "Learning rate: 0.05\n",
      "Final epochs: 1000\n",
      "Final weights: {'setosa': array([ 4.485,  5.355, -8.85 , -4.43 ]), 'versicolor': array([ 5.01,  0.49, -4.08, -5.54]), 'virginica': array([-9.495, -5.845, 12.93 ,  9.97 ])}\n",
      "Model accuracy: 98.33%\n",
      "\n",
      "======= Trial 12 =======\n",
      "Initial weights: random\n",
      "Learning rate: 0.05\n",
      "Final epochs: 1000\n",
      "Final weights: {'setosa': array([ 4.67069317,  5.39133247, -8.89941327, -4.3476026 ]), 'versicolor': array([ 5.25577048,  0.7226532 , -4.16148008, -5.46094901]), 'virginica': array([-9.23463367, -5.68025471, 12.44509356,  9.70528404])}\n",
      "Model accuracy: 95.00%\n",
      "\n"
     ]
    }
   ],
   "source": [
    "accuracies = []\n",
    "train_sizes = [0.8, 0.7, 0.6]\n",
    "all_learning_rates = [0.1, 0.05]\n",
    "weights_all_zeros = [True, False]\n",
    "max_epochs = 1000\n",
    "trial = 0\n",
    "\n",
    "for train_size in train_sizes:\n",
    "    for learning_rate in all_learning_rates:\n",
    "        for using_all_zeros in weights_all_zeros:\n",
    "            trial += 1\n",
    "            train_attributes, train_class, test_attributes, test_class = split_train_test(train_size)\n",
    "            model_settings = [init_weights(all_zeros=using_all_zeros), learning_rate, max_epochs]\n",
    "            final_epochs, final_weights = multiclass_perceptron(train_attributes, train_class, model_settings)\n",
    "            accuracy = test_model(test_attributes, test_class, final_weights)\n",
    "            accuracies.append(accuracy)\n",
    "\n",
    "            # Display the trial results neatly, showing all settings and accuracy of current model\n",
    "            print(f\"======= Trial {trial} =======\")\n",
    "            print(f\"Initial weights: {\"all zeros\" if using_all_zeros else \"random\"}\")\n",
    "            print(f\"Learning rate: {learning_rate}\")\n",
    "            print(f\"Final epochs: {final_epochs}\")\n",
    "            print(f\"Final weights: {final_weights}\")\n",
    "            print(f\"Model accuracy: {accuracy:.2f}%\")\n",
    "            print()\n"
   ]
  },
  {
   "cell_type": "markdown",
   "metadata": {},
   "source": [
    "## Visualizing the results\n",
    "\n",
    "To better understand the results of our trials, we have plotted a bar graph that visually represents the accuracy of the model for each trial. Each bar corresponds to a specific trial, with details such as train size, learning rate, and initial weight settings labeled on the x-axis. The y-axis represents the accuracy percentage achieved by the model.\n",
    "\n",
    "This visualization helps us quickly identify which combinations of settings yielded the best performance and provides insights into the impact of different parameters on the model's accuracy."
   ]
  },
  {
   "cell_type": "code",
   "execution_count": 15,
   "metadata": {},
   "outputs": [
    {
     "data": {
      "image/png": "[encoded data removed]",
      "text/plain": [
       "<Figure size 1200x600 with 1 Axes>"
      ]
     },
     "metadata": {},
     "output_type": "display_data"
    }
   ],
   "source": [
    "# Prepare data for the graph\n",
    "x_labels = [\n",
    "    f\"Train: {int(train_sizes[i//4] * 100)}%\\nLR: {all_learning_rates[(i//2) % 2]}\\nW: {'Zeros' if weights_all_zeros[i % 2] else 'Random'}\"\n",
    "    for i in range(len(accuracies))\n",
    "]\n",
    "\n",
    "# Plot the graph\n",
    "plt.figure(figsize=(12, 6))\n",
    "plt.plot(x_labels, accuracies, marker='o', linewidth=2, color='skyblue')\n",
    "plt.xticks(rotation=45, ha='right', fontsize=10)\n",
    "plt.xlabel(\"Trials and Settings\", fontsize=12)\n",
    "plt.ylabel(\"Accuracy (%)\", fontsize=12)\n",
    "plt.ylim(0, 110)\n",
    "plt.title(\"Model Accuracy for Different Settings\", fontsize=14)\n",
    "plt.tight_layout()\n",
    "plt.show()"
   ]
  }
 ],
 "metadata": {
  "kernelspec": {
   "display_name": "Python 3",
   "language": "python",
   "name": "python3"
  },
  "language_info": {
   "codemirror_mode": {
    "name": "ipython",
    "version": 3
   },
   "file_extension": ".py",
   "mimetype": "text/x-python",
   "name": "python",
   "nbconvert_exporter": "python",
   "pygments_lexer": "ipython3",
   "version": "3.12.4"
  }
 },
 "nbformat": 4,
 "nbformat_minor": 2
}
