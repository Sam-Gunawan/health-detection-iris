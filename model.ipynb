{
 "cells": [
  {
   "cell_type": "markdown",
   "metadata": {},
   "source": [
    "# Predicting sickness based on iris data\n",
    "\n",
    "\n",
    "First of all, we import the necessary dependencies"
   ]
  },
  {
   "cell_type": "code",
   "execution_count": null,
   "metadata": {},
   "outputs": [],
   "source": [
    "import numpy as np\n",
    "import pandas as pd"
   ]
  },
  {
   "cell_type": "markdown",
   "metadata": {},
   "source": [
    "## Storing and parsing the data\n",
    "\n",
    "Then, we need to convert the csv dataset to a Pandas dataframe and parse the necessary values needed for our model later on (if any)."
   ]
  },
  {
   "cell_type": "code",
   "execution_count": 4,
   "metadata": {},
   "outputs": [],
   "source": [
    "all_iris_df = pd.read_csv('iris_dataset.csv')"
   ]
  },
  {
   "cell_type": "markdown",
   "metadata": {},
   "source": [
    "## Splitting into train and test dataframes\n",
    "We need to create 2 new dataframes, one for training the model and the other for testing.\n",
    "- Training will be used to calculate the appropriate weights that the model assigns to each class.\n",
    "- Testing will be used to calculate the accuracy of the model."
   ]
  },
  {
   "cell_type": "code",
   "execution_count": null,
   "metadata": {},
   "outputs": [],
   "source": [
    "# Change the train and test percentages here\n",
    "# Try for all 3 values: 80-20, 70-30, 60-40\n",
    "train_size = 0.8\n",
    "\n",
    "# Randomly sample the data\n",
    "train_iris_df = all_iris_df.sample(frac=train_size)\n",
    "\n",
    "# Get the remaining data for testing\n",
    "test_iris_df = all_iris_df.drop(train_iris_df.index)"
   ]
  },
  {
   "cell_type": "markdown",
   "metadata": {},
   "source": [
    "We also need to separate the classes from the attributes"
   ]
  },
  {
   "cell_type": "code",
   "execution_count": null,
   "metadata": {},
   "outputs": [],
   "source": [
    "train_attributes =  np.array(train_iris_df.drop('variety', axis=1))\n",
    "train_class = np.array(train_iris_df['variety'])\n",
    "\n",
    "test_attributes =  np.array(test_iris_df.drop('variety', axis=1))\n",
    "test_class = np.array(test_iris_df['variety'])"
   ]
  }
 ],
 "metadata": {
  "kernelspec": {
   "display_name": "Python 3",
   "language": "python",
   "name": "python3"
  },
  "language_info": {
   "codemirror_mode": {
    "name": "ipython",
    "version": 3
   },
   "file_extension": ".py",
   "mimetype": "text/x-python",
   "name": "python",
   "nbconvert_exporter": "python",
   "pygments_lexer": "ipython3",
   "version": "3.12.4"
  }
 },
 "nbformat": 4,
 "nbformat_minor": 2
}
